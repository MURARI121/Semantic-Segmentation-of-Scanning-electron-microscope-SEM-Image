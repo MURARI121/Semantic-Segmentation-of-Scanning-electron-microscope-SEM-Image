{
  "nbformat": 4,
  "nbformat_minor": 0,
  "metadata": {
    "colab": {
      "name": "Test_Result.ipynb",
      "provenance": []
    },
    "kernelspec": {
      "name": "python3",
      "display_name": "Python 3"
    }
  },
  "cells": [
    {
      "cell_type": "code",
      "metadata": {
        "id": "0HkyqsIMNqhn",
        "colab_type": "code",
        "colab": {}
      },
      "source": [
        "import os\n",
        "import math\n",
        "import torch\n",
        "import torchvision\n",
        "import collections\n",
        "import numpy as np\n",
        "import pandas as pd\n",
        "import cv2\n",
        "from math import exp\n",
        "import torch.nn as nn\n",
        "import torch.nn.functional as F\n",
        "import matplotlib.pyplot as plt\n",
        "from torchvision import transforms, datasets\n",
        "from skimage.io import imread, imsave\n",
        "from skimage import transform\n",
        "from skimage.transform import rotate, AffineTransform\n",
        "from skimage.io import imread\n",
        "from skimage.color import rgb2gray, gray2rgb\n",
        "from scipy import ndimage\n",
        "import skimage.io as io\n",
        "from PIL import Image"
      ],
      "execution_count": null,
      "outputs": []
    },
    {
      "cell_type": "code",
      "metadata": {
        "id": "UP6kxVJWNvys",
        "colab_type": "code",
        "colab": {}
      },
      "source": [
        "import os\n",
        "\n",
        "def createFolder(directory):\n",
        "    try:\n",
        "        if not os.path.exists(directory):\n",
        "            os.makedirs(directory)\n",
        "    except OSError:\n",
        "        print ('Error: Creating directory. ' +  directory)\n",
        "        \n"
      ],
      "execution_count": null,
      "outputs": []
    },
    {
      "cell_type": "code",
      "metadata": {
        "id": "wF8HCaCoNvmJ",
        "colab_type": "code",
        "colab": {}
      },
      "source": [
        "createFolder('/content/result/')\n",
        "createFolder('/content/result/predicted/')\n",
        "createFolder('/content/result/truth/')\n"
      ],
      "execution_count": null,
      "outputs": []
    },
    {
      "cell_type": "code",
      "metadata": {
        "id": "nYXBnP28Nvbf",
        "colab_type": "code",
        "colab": {}
      },
      "source": [
        "# Dividing input image into 128 patch size\n",
        "size = 128\n",
        "stride = 128\n",
        "\n",
        "k=1\n",
        "path1='/content/result/predicted/'\n",
        "path2='/content/result/truth/'\n",
        "for i,data in enumerate(trainset):\n",
        "  inputs,labels = data\n",
        "  inputs=inputs.contiguous().view(inputs.size(0), inputs.size(1),inputs.size(2))\n",
        "  labels=labels.contiguous().view(labels.size(0), labels.size(1),labels.size(2))\n",
        "  inputs = inputs.unfold(1, size, stride).unfold(2, size, stride)\n",
        "  labels = labels.unfold(1, size, stride).unfold(2, size, stride)\n",
        "  inputs = inputs.contiguous().view(inputs.size(0), -1, size, size)\n",
        "  labels = labels.contiguous().view(labels.size(0), -1,size, size)\n",
        "  inputs =inputs.permute(1,0,2,3)\n",
        "  labels =labels.permute(1,0,2,3)\n",
        "  for i in range(inputs.shape[0]):\n",
        "    p=inputs[i,:]\n",
        "    im = transforms.ToPILImage()(p)\n",
        "    im.save(path1+\"{}\".format(k)+\".png\")\n",
        "    p=labels[i,:]\n",
        "    im = transforms.ToPILImage()(p)\n",
        "    im.save(path2+\"{}\".format(k)+\".png\")\n",
        "    k+=1\n",
        "  \n"
      ],
      "execution_count": null,
      "outputs": []
    },
    {
      "cell_type": "code",
      "metadata": {
        "id": "W44KmqzXOQDM",
        "colab_type": "code",
        "colab": {}
      },
      "source": [
        "dice_result=[]\n",
        "for i in range(1,k):\n",
        "    inputs = Image.open(path1+str(i)+'.png')\n",
        "    target = Image.open(path2+str(i)+'.png')\n",
        "    t=dice(inputs,target)\n",
        "    dice_result.append(t)\n"
      ],
      "execution_count": null,
      "outputs": []
    },
    {
      "cell_type": "code",
      "metadata": {
        "id": "yQLikCTbOP3e",
        "colab_type": "code",
        "colab": {}
      },
      "source": [
        "porosity=[]\n",
        "for i in range(1,k):\n",
        "    inputs = Image.open(path1+str(i)+'.png')\n",
        "    target = Image.open(path2+str(i)+'.png')\n",
        "    inputs = np.asarray(inputs).astype(np.bool)\n",
        "    target= np.asarray(target).astype(np.bool)\n",
        "    p=inputs.sum()/(128*128)\n",
        "    q=target.sum()/(128*128)\n",
        "    porosity.append([p,q])\n"
      ],
      "execution_count": null,
      "outputs": []
    },
    {
      "cell_type": "code",
      "metadata": {
        "id": "-ddsm6dQOVyv",
        "colab_type": "code",
        "colab": {}
      },
      "source": [
        "porosity=pd.DataFrame(porosity)\n",
        "porosity.to_csv('porostity.csv')\n",
        "\n",
        "dice_result=pd.DataFrame(dice_result)\n",
        "dice_result.to_csv('dice_result.csv')"
      ],
      "execution_count": null,
      "outputs": []
    },
    {
      "cell_type": "code",
      "metadata": {
        "id": "PMdWdz1_NvQp",
        "colab_type": "code",
        "colab": {}
      },
      "source": [
        "import shutil\n",
        "shutil.make_archive('result', 'zip', '/content/result')"
      ],
      "execution_count": null,
      "outputs": []
    },
    {
      "cell_type": "code",
      "metadata": {
        "id": "GLMs7uxNNvEZ",
        "colab_type": "code",
        "colab": {}
      },
      "source": [
        ""
      ],
      "execution_count": null,
      "outputs": []
    }
  ]
}