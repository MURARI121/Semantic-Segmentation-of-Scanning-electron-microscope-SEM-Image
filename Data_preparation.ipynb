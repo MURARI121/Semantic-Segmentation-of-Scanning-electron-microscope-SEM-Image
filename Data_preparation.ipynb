{
  "nbformat": 4,
  "nbformat_minor": 0,
  "metadata": {
    "colab": {
      "name": "Data_preparation.ipynb",
      "provenance": [],
      "collapsed_sections": []
    },
    "kernelspec": {
      "name": "python3",
      "display_name": "Python 3"
    },
    "accelerator": "GPU"
  },
  "cells": [
    {
      "cell_type": "code",
      "metadata": {
        "id": "qeTm9iH3qWHt",
        "colab_type": "code",
        "colab": {}
      },
      "source": [
        "import os\n",
        "import math\n",
        "import torch\n",
        "import torchvision\n",
        "import collections\n",
        "import numpy as np\n",
        "import pandas as pd\n",
        "import cv2\n",
        "from math import exp\n",
        "import torch.nn as nn\n",
        "import torch.nn.functional as F\n",
        "import matplotlib.pyplot as plt\n",
        "from torchvision import transforms, datasets\n",
        "from skimage.io import imread, imsave\n",
        "from skimage import transform\n",
        "from skimage.transform import rotate, AffineTransform\n",
        "from skimage.io import imread\n",
        "from skimage.color import rgb2gray, gray2rgb\n",
        "from scipy import ndimage\n",
        "import skimage.io as io\n",
        "from PIL import Image"
      ],
      "execution_count": 1,
      "outputs": []
    },
    {
      "cell_type": "code",
      "metadata": {
        "id": "ULoOC9I4qWRN",
        "colab_type": "code",
        "colab": {}
      },
      "source": [
        "x_train= ['{}'.format(num) for num in range(1,4)]\n",
        "y_train= ['{}'.format(num) for num in range(1,4)]\n"
      ],
      "execution_count": null,
      "outputs": []
    },
    {
      "cell_type": "code",
      "metadata": {
        "id": "XTH-b_EvqWZV",
        "colab_type": "code",
        "colab": {}
      },
      "source": [
        "train=pd.DataFrame()\n",
        "train['x_train']=x_train\n",
        "train['y_train']=y_train"
      ],
      "execution_count": null,
      "outputs": []
    },
    {
      "cell_type": "code",
      "metadata": {
        "id": "2L3JfzNsqWg5",
        "colab_type": "code",
        "colab": {}
      },
      "source": [
        "class Super_resol_Dataset():\n",
        "    \n",
        "    def __init__(self, dataset, root_dir_x, root_dir_y, transform1=None, transform2=None):\n",
        "\n",
        "        self.data = dataset\n",
        "        self.root_dir_x = root_dir_x\n",
        "        self.root_dir_y = root_dir_y\n",
        "        self.transform1 = transform1\n",
        "        self.transform2 = transform2\n",
        "\n",
        "    def __len__(self):\n",
        "        return len(self.data)\n",
        "\n",
        "    def __getitem__(self, idx):\n",
        "        if torch.is_tensor(idx):\n",
        "            idx = idx\n",
        "\n",
        "        img_name = os.path.join(self.root_dir_x,self.data.iloc[idx, 0])\n",
        "        \n",
        "        image = Image.open(img_name+\".png\")\n",
        "        label_name = os.path.join(self.root_dir_y,self.data.iloc[idx, 1])\n",
        "        \n",
        "        label = Image.open(label_name+\".png\")        \n",
        "        if self.transform1 is not None:\n",
        "            image = self.transform1(image)\n",
        "        if self.transform2 is not None:\n",
        "            label = self.transform2(label)\n",
        "        return image, label\n",
        "    \n"
      ],
      "execution_count": null,
      "outputs": []
    },
    {
      "cell_type": "code",
      "metadata": {
        "id": "GaIuJkPRqW9F",
        "colab_type": "code",
        "colab": {}
      },
      "source": [
        "batch_size=1\n",
        "train_transform = transforms.Compose([transforms.Resize((1024,1024)),transforms.ToTensor()])\n",
        "test_transform = transforms.Compose([transforms.Resize((1024,1024)),transforms.ToTensor()])\n",
        "\n",
        "trainset = Super_resol_Dataset(dataset=train,root_dir_x='/content/sem/image/',\n",
        "                               root_dir_y='/content/sem/label/',transform1=train_transform,transform2=test_transform)\n"
      ],
      "execution_count": null,
      "outputs": []
    },
    {
      "cell_type": "code",
      "metadata": {
        "id": "HrjdUE_t1QPL",
        "colab_type": "code",
        "colab": {}
      },
      "source": [
        "import os\n",
        "\n",
        "def createFolder(directory):\n",
        "    try:\n",
        "        if not os.path.exists(directory):\n",
        "            os.makedirs(directory)\n",
        "    except OSError:\n",
        "        print ('Error: Creating directory. ' +  directory)\n",
        "        \n"
      ],
      "execution_count": 5,
      "outputs": []
    },
    {
      "cell_type": "code",
      "metadata": {
        "id": "cQb21SLy1Tc0",
        "colab_type": "code",
        "colab": {}
      },
      "source": [
        "createFolder('/content/sem_128/')\n"
      ],
      "execution_count": 6,
      "outputs": []
    },
    {
      "cell_type": "code",
      "metadata": {
        "id": "BM7hM5bd1a3m",
        "colab_type": "code",
        "colab": {}
      },
      "source": [
        "createFolder('/content/sem_128/image/')\n",
        "createFolder('/content/sem_128/label/')\n"
      ],
      "execution_count": null,
      "outputs": []
    },
    {
      "cell_type": "code",
      "metadata": {
        "id": "JMhUD8L-s9W0",
        "colab_type": "code",
        "colab": {}
      },
      "source": [
        "# Dividing input image into 128 patch size\n",
        "size = 128\n",
        "stride = 128\n",
        "\n",
        "k=1\n",
        "path1='/content/sem_128/image/'\n",
        "path2='/content/sem_128/label/'\n",
        "for i,data in enumerate(trainset):\n",
        "  inputs,labels = data\n",
        "  inputs=inputs.contiguous().view(inputs.size(0), inputs.size(1),inputs.size(2))\n",
        "  labels=labels.contiguous().view(labels.size(0), labels.size(1),labels.size(2))\n",
        "  inputs = inputs.unfold(1, size, stride).unfold(2, size, stride)\n",
        "  labels = labels.unfold(1, size, stride).unfold(2, size, stride)\n",
        "  inputs = inputs.contiguous().view(inputs.size(0), -1, size, size)\n",
        "  labels = labels.contiguous().view(labels.size(0), -1,size, size)\n",
        "  inputs =inputs.permute(1,0,2,3)\n",
        "  labels =labels.permute(1,0,2,3)\n",
        "  for i in range(inputs.shape[0]):\n",
        "    p=inputs[i,:]\n",
        "    im = transforms.ToPILImage()(p)\n",
        "    im.save(path1+\"{}\".format(k)+\".png\")\n",
        "    p=labels[i,:]\n",
        "    im = transforms.ToPILImage()(p)\n",
        "    im.save(path2+\"{}\".format(k)+\".png\")\n",
        "    k+=1\n",
        "  \n"
      ],
      "execution_count": null,
      "outputs": []
    },
    {
      "cell_type": "code",
      "metadata": {
        "id": "GSCbYLZExJU1",
        "colab_type": "code",
        "colab": {
          "base_uri": "https://localhost:8080/",
          "height": 35
        },
        "outputId": "3f52b5af-f2cb-4d0f-f8c6-8855f7caabe9"
      },
      "source": [
        "k"
      ],
      "execution_count": null,
      "outputs": [
        {
          "output_type": "execute_result",
          "data": {
            "text/plain": [
              "13"
            ]
          },
          "metadata": {
            "tags": []
          },
          "execution_count": 36
        }
      ]
    },
    {
      "cell_type": "code",
      "metadata": {
        "id": "hozFOXd0qW7E",
        "colab_type": "code",
        "colab": {}
      },
      "source": [
        "#Augmenting image by rotating into different angle\n",
        "s=k\n",
        "for i in range(1,s):\n",
        "  p=str(i)\n",
        "  inputs=io.imread(path1+p+\".png\")\n",
        "  labels=io.imread(path2+p+\".png\")\n",
        "  rot=[30,45,60,90]\n",
        "  for j in rot:\n",
        "    rotated_in = rotate(inputs, angle=j, mode = 'wrap')\n",
        "    rotated_out = rotate(labels, angle=j, mode = 'wrap')\n",
        "    rotated_in  = (rotated_in * 255).astype(np.uint8)\n",
        "    rotated_out  = (rotated_out * 255).astype(np.uint8)\n",
        "\n",
        "    p = torch.from_numpy(rotated_in)\n",
        "    im = transforms.ToPILImage()(p)\n",
        "    im.save(path1+\"{}\".format(k)+\".png\")\n",
        "\n",
        "    p = torch.from_numpy(rotated_out)\n",
        "    im = transforms.ToPILImage()(p)\n",
        "    im.save(path2+\"{}\".format(k)+\".png\")\n",
        "    k+=1\n"
      ],
      "execution_count": null,
      "outputs": []
    },
    {
      "cell_type": "code",
      "metadata": {
        "id": "nsVqwcoaxa-b",
        "colab_type": "code",
        "colab": {
          "base_uri": "https://localhost:8080/",
          "height": 35
        },
        "outputId": "ac4466af-3772-49d1-d02a-39748daf6d8f"
      },
      "source": [
        "k"
      ],
      "execution_count": null,
      "outputs": [
        {
          "output_type": "execute_result",
          "data": {
            "text/plain": [
              "65"
            ]
          },
          "metadata": {
            "tags": []
          },
          "execution_count": 8
        }
      ]
    },
    {
      "cell_type": "code",
      "metadata": {
        "id": "-Mawg9QGYq8v",
        "colab_type": "code",
        "colab": {}
      },
      "source": [
        "#Augmenting image by flipping in horizontal and vertical direction\n",
        "\n",
        "s=k\n",
        "for i in range(1,s):\n",
        "  p=str(i)\n",
        "  inputs=io.imread(path1+p+\".png\")\n",
        "  labels=io.imread(path2+p+\".png\")\n",
        "  flipLR1 = np.fliplr(inputs).astype(np.uint8)\n",
        "  flipLR2 = np.fliplr(labels).astype(np.uint8)\n",
        "  flipUD1 = np.flipud(inputs).astype(np.uint8)\n",
        "  flipUD2 = np.flipud(labels).astype(np.uint8)\n",
        "\n",
        "  p = torch.from_numpy(flipLR1)\n",
        "  im = transforms.ToPILImage()(p)\n",
        "  im.save(path1+\"{}\".format(k)+\".png\")\n",
        "\n",
        "  p = torch.from_numpy(flipLR2)\n",
        "  im = transforms.ToPILImage()(p)\n",
        "  im.save(path2+\"{}\".format(k)+\".png\")\n",
        "  k+=1\n",
        "\n",
        "  p = torch.from_numpy(flipUD1)\n",
        "  im = transforms.ToPILImage()(p)\n",
        "  im.save(path1+\"{}\".format(k)+\".png\")\n",
        "\n",
        "  p = torch.from_numpy(flipUD2)\n",
        "  im = transforms.ToPILImage()(p)\n",
        "  im.save(path2+\"{}\".format(k)+\".png\")\n",
        "  k+=1\n"
      ],
      "execution_count": null,
      "outputs": []
    },
    {
      "cell_type": "code",
      "metadata": {
        "id": "jsl2HQR9iHiH",
        "colab_type": "code",
        "colab": {
          "base_uri": "https://localhost:8080/",
          "height": 35
        },
        "outputId": "c8881aa6-173b-426b-ced4-a9554ba7bd68"
      },
      "source": [
        "k"
      ],
      "execution_count": null,
      "outputs": [
        {
          "output_type": "execute_result",
          "data": {
            "text/plain": [
              "181"
            ]
          },
          "metadata": {
            "tags": []
          },
          "execution_count": 40
        }
      ]
    },
    {
      "cell_type": "code",
      "metadata": {
        "id": "AgxEwpUr6T98",
        "colab_type": "code",
        "colab": {
          "base_uri": "https://localhost:8080/",
          "height": 35
        },
        "outputId": "5543a4b3-8e89-41a9-965e-81d6e58d6423"
      },
      "source": [
        "import shutil\n",
        "shutil.make_archive('train', 'zip', '/content/sem_128')"
      ],
      "execution_count": 9,
      "outputs": [
        {
          "output_type": "execute_result",
          "data": {
            "application/vnd.google.colaboratory.intrinsic+json": {
              "type": "string"
            },
            "text/plain": [
              "'/content/test.zip'"
            ]
          },
          "metadata": {
            "tags": []
          },
          "execution_count": 9
        }
      ]
    }
  ]
}